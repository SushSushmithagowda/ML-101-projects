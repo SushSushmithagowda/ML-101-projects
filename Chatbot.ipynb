{
  "cells": [
    {
      "cell_type": "markdown",
      "metadata": {
        "id": "view-in-github",
        "colab_type": "text"
      },
      "source": [
        "<a href=\"https://colab.research.google.com/github/SushSushmithagowda/ML-101-projects/blob/main/Chatbot.ipynb\" target=\"_parent\"><img src=\"https://colab.research.google.com/assets/colab-badge.svg\" alt=\"Open In Colab\"/></a>"
      ]
    },
    {
      "cell_type": "code",
      "execution_count": null,
      "metadata": {
        "id": "SC5Pp687LShq"
      },
      "outputs": [],
      "source": [
        "import io\n",
        "import random\n",
        "import string\n",
        "import warnings\n",
        "import numpy as np\n",
        "from sklearn.feature_extraction.text import TfidfVectorizer\n",
        "from sklearn.metrics.pairwise import cosine_similarity\n",
        "import warnings\n",
        "warnings.filterwarnings('ignore')"
      ]
    },
    {
      "cell_type": "code",
      "execution_count": null,
      "metadata": {
        "colab": {
          "base_uri": "https://localhost:8080/"
        },
        "id": "r1MjyHZ7NVkQ",
        "outputId": "3d845ece-34e8-4f87-d6ee-285e7d3c31d5"
      },
      "outputs": [
        {
          "data": {
            "text/plain": [
              "True"
            ]
          },
          "execution_count": 2,
          "metadata": {},
          "output_type": "execute_result"
        }
      ],
      "source": [
        "import nltk\n",
        "from nltk.stem import WordNetLemmatizer\n",
        "nltk.download('popular', quiet=True)"
      ]
    },
    {
      "cell_type": "code",
      "execution_count": null,
      "metadata": {
        "colab": {
          "base_uri": "https://localhost:8080/"
        },
        "id": "Jxkf9q2lIuyz",
        "outputId": "2f2b5d59-53a5-4a7d-b0a9-bf4f86cd9281"
      },
      "outputs": [
        {
          "name": "stdout",
          "output_type": "stream",
          "text": [
            "Mounted at /content/gdrive\n"
          ]
        }
      ],
      "source": [
        "from google.colab import drive\n",
        "drive.mount('/content/gdrive')"
      ]
    },
    {
      "cell_type": "code",
      "execution_count": null,
      "metadata": {
        "id": "azhBU1IYdIzT"
      },
      "outputs": [],
      "source": [
        ""
      ]
    },
    {
      "cell_type": "markdown",
      "metadata": {
        "id": "PAPlzUR2L9EO"
      },
      "source": [
        "#Reading in the corpus"
      ]
    },
    {
      "cell_type": "code",
      "execution_count": null,
      "metadata": {
        "id": "WrbeskF7Jn4e"
      },
      "outputs": [],
      "source": [
        "#Reading in the corpus\n",
        "with open('/content/chatbot.txt','r', encoding='utf8', errors='ignore') as fin:\n",
        "  raw = fin.read().lower()"
      ]
    },
    {
      "cell_type": "code",
      "execution_count": null,
      "metadata": {
        "id": "Didyy7DgLJn3"
      },
      "outputs": [],
      "source": [
        "#Tokenization\n",
        "sent_tokens = nltk.sent_tokenize(raw) #converts to list of sentences\n",
        "word_counts = nltk.word_tokenize(raw) #converts to list of words"
      ]
    },
    {
      "cell_type": "code",
      "execution_count": null,
      "metadata": {
        "id": "Kklb-BK4Mc2m"
      },
      "outputs": [],
      "source": [
        "#preprocessing\n",
        "lemmer = WordNetLemmatizer()\n",
        "def LemTokens(tokens):\n",
        "  return [Lemmer.lemmatize(token) for token in tokens]\n",
        "  remove_punc_dict = dict((ord(punct), None) for punct in string.punctuation)\n",
        "  def LemNormalize(text):\n",
        "    return LemTokens(nltk.word_tokenize(text.lower().translate(remove_punct_dict)))\n",
        "    "
      ]
    },
    {
      "cell_type": "code",
      "execution_count": null,
      "metadata": {
        "id": "1-Vv6NKiNeSg"
      },
      "outputs": [],
      "source": [
        "#keywordMatching\n",
        "GREETING_INPUTS = (\"hello\", \"hi\", \"greetings\", \"sup\", \"what's up\", \"hey\",)\n",
        "GREETING_RESPONSES = [\"hi\", \"hey\", \"*nods*\", \"hi there\", \"hello\", \"I am glad! You are talking to me\"]\n",
        "\n",
        "def greeting(sentence):\n",
        "  \"\"\"If user's input is a greeting, return a greeting response\"\"\"\n",
        "  for word in sentence.split():\n",
        "    if word.lower() in GREETING_INPUTS:\n",
        "      return random.choice(GREETING_RESPONSES)"
      ]
    },
    {
      "cell_type": "code",
      "execution_count": null,
      "metadata": {
        "colab": {
          "background_save": true,
          "base_uri": "https://localhost:8080/"
        },
        "id": "MpkacNzpN-V8",
        "outputId": "b65a85b5-c4a7-422f-c617-2532ebffc20c"
      },
      "outputs": [
        {
          "name": "stdout",
          "output_type": "stream",
          "text": [
            "ROBO: My name is Robo. I will answer your queries about chatbots. If you want to exit, type Bye!\n"
          ]
        }
      ],
      "source": [
        "#Generating response\n",
        "def response(user_response):\n",
        "  robo_response=''\n",
        "  sent_tokens.append(user_response)\n",
        "  TfidVec = TfidVectorizer(tokenizer=LemNormalize, stop_words='english')\n",
        "  tfidf = TfidVec.fit_transform(sent_tokens)\n",
        "  vals = cosine_similarity(tfidf[-1], tfidf)\n",
        "  idx=vals.argsort()[0][-2]\n",
        "  flat = vals.flatten()\n",
        "  flat.sort()\n",
        "  req_tfidf = flat[-2]\n",
        "  if(req_tfidf==0):\n",
        "    robo_response=robo_response+\"I am sorry! I dont understand you\"\n",
        "    return robo_response\n",
        "  else:\n",
        "      robo_response = robo_response+sent_tokens[idx]\n",
        "      return robo_response\n",
        "\n",
        "flag = True\n",
        "print(\"ROBO: My name is Robo. I will answer your queries about chatbots. If you want to exit, type Bye!\")\n",
        "while(flag==True):\n",
        "        user_response = input()\n",
        "        user_response = user_response.lower()\n",
        "        if(user_response!='bye'):\n",
        "          if(user_response=='thanks' or user_response=='thank you'):\n",
        "            flag=False\n",
        "            print(\"ROBO: You are welcome..\")\n",
        "          else:\n",
        "              if(greeting(user_response)!=None):\n",
        "                print(\"ROBO: \"+greeting(user_response))\n",
        "              else:\n",
        "                  print(\"ROBO: \",end=\"\")\n",
        "                  print(response(user_response))\n",
        "                  sent_tokens.remove(user_response)\n",
        "        else:\n",
        "          flag=False\n",
        "          print(\"ROBO: Bye! take care..\")\n"
      ]
    }
  ],
  "metadata": {
    "colab": {
      "name": "Chatbot.ipynb",
      "provenance": [],
      "mount_file_id": "1JQsKo7dINJTGWl-eSOIQY9M8yAsqnVzQ",
      "authorship_tag": "ABX9TyOJZ+ouMBiUAYTalZZ3Pak9",
      "include_colab_link": true
    },
    "kernelspec": {
      "display_name": "Python 3",
      "name": "python3"
    },
    "language_info": {
      "name": "python"
    }
  },
  "nbformat": 4,
  "nbformat_minor": 0
}