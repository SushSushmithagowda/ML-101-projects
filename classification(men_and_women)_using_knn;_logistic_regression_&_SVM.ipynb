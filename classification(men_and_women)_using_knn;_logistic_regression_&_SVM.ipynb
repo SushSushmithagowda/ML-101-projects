{
  "nbformat": 4,
  "nbformat_minor": 0,
  "metadata": {
    "colab": {
      "name": "classification(men and women) using knn; logistic regression & SVM.ipynb",
      "provenance": [],
      "authorship_tag": "ABX9TyNCH40JBN+a/19eZ0U78qx5",
      "include_colab_link": true
    },
    "kernelspec": {
      "name": "python3",
      "display_name": "Python 3"
    },
    "language_info": {
      "name": "python"
    }
  },
  "cells": [
    {
      "cell_type": "markdown",
      "metadata": {
        "id": "view-in-github",
        "colab_type": "text"
      },
      "source": [
        "<a href=\"https://colab.research.google.com/github/SushSushmithagowda/ML-101-projects/blob/main/classification(men_and_women)_using_knn%3B_logistic_regression_%26_SVM.ipynb\" target=\"_parent\"><img src=\"https://colab.research.google.com/assets/colab-badge.svg\" alt=\"Open In Colab\"/></a>"
      ]
    },
    {
      "cell_type": "code",
      "metadata": {
        "id": "7YBChaotbN8h"
      },
      "source": [
        "import numpy as np\n",
        "import pandas as pd\n",
        "import matplotlib.pyplot as plt\n",
        "import seaborn as sns\n",
        "%matplotlib inline"
      ],
      "execution_count": 1,
      "outputs": []
    },
    {
      "cell_type": "code",
      "metadata": {
        "id": "X6HTqNtsbY18"
      },
      "source": [
        "df = pd.read_csv('/content/Transformed Data Set - Sheet1.csv')"
      ],
      "execution_count": 2,
      "outputs": []
    },
    {
      "cell_type": "code",
      "metadata": {
        "colab": {
          "base_uri": "https://localhost:8080/",
          "height": 206
        },
        "id": "hTX7I9nrbqtx",
        "outputId": "7d2b90e2-2d27-4e64-e3d5-9f4b17c0f7d9"
      },
      "source": [
        "df.head()"
      ],
      "execution_count": 3,
      "outputs": [
        {
          "output_type": "execute_result",
          "data": {
            "text/html": [
              "<div>\n",
              "<style scoped>\n",
              "    .dataframe tbody tr th:only-of-type {\n",
              "        vertical-align: middle;\n",
              "    }\n",
              "\n",
              "    .dataframe tbody tr th {\n",
              "        vertical-align: top;\n",
              "    }\n",
              "\n",
              "    .dataframe thead th {\n",
              "        text-align: right;\n",
              "    }\n",
              "</style>\n",
              "<table border=\"1\" class=\"dataframe\">\n",
              "  <thead>\n",
              "    <tr style=\"text-align: right;\">\n",
              "      <th></th>\n",
              "      <th>Favorite Color</th>\n",
              "      <th>Favorite Music Genre</th>\n",
              "      <th>Favorite Beverage</th>\n",
              "      <th>Favorite Soft Drink</th>\n",
              "      <th>Gender</th>\n",
              "    </tr>\n",
              "  </thead>\n",
              "  <tbody>\n",
              "    <tr>\n",
              "      <th>0</th>\n",
              "      <td>Cool</td>\n",
              "      <td>Rock</td>\n",
              "      <td>Vodka</td>\n",
              "      <td>7UP/Sprite</td>\n",
              "      <td>F</td>\n",
              "    </tr>\n",
              "    <tr>\n",
              "      <th>1</th>\n",
              "      <td>Neutral</td>\n",
              "      <td>Hip hop</td>\n",
              "      <td>Vodka</td>\n",
              "      <td>Coca Cola/Pepsi</td>\n",
              "      <td>F</td>\n",
              "    </tr>\n",
              "    <tr>\n",
              "      <th>2</th>\n",
              "      <td>Warm</td>\n",
              "      <td>Rock</td>\n",
              "      <td>Wine</td>\n",
              "      <td>Coca Cola/Pepsi</td>\n",
              "      <td>F</td>\n",
              "    </tr>\n",
              "    <tr>\n",
              "      <th>3</th>\n",
              "      <td>Warm</td>\n",
              "      <td>Folk/Traditional</td>\n",
              "      <td>Whiskey</td>\n",
              "      <td>Fanta</td>\n",
              "      <td>F</td>\n",
              "    </tr>\n",
              "    <tr>\n",
              "      <th>4</th>\n",
              "      <td>Cool</td>\n",
              "      <td>Rock</td>\n",
              "      <td>Vodka</td>\n",
              "      <td>Coca Cola/Pepsi</td>\n",
              "      <td>F</td>\n",
              "    </tr>\n",
              "  </tbody>\n",
              "</table>\n",
              "</div>"
            ],
            "text/plain": [
              "  Favorite Color Favorite Music Genre  ... Favorite Soft Drink Gender\n",
              "0           Cool                 Rock  ...          7UP/Sprite      F\n",
              "1        Neutral              Hip hop  ...     Coca Cola/Pepsi      F\n",
              "2           Warm                 Rock  ...     Coca Cola/Pepsi      F\n",
              "3           Warm     Folk/Traditional  ...               Fanta      F\n",
              "4           Cool                 Rock  ...     Coca Cola/Pepsi      F\n",
              "\n",
              "[5 rows x 5 columns]"
            ]
          },
          "metadata": {},
          "execution_count": 3
        }
      ]
    },
    {
      "cell_type": "code",
      "metadata": {
        "colab": {
          "base_uri": "https://localhost:8080/"
        },
        "id": "Z6ffWswQbxqG",
        "outputId": "60036bd9-4882-45d8-9cf3-9b7854513e98"
      },
      "source": [
        "df.isnull().sum()"
      ],
      "execution_count": 4,
      "outputs": [
        {
          "output_type": "execute_result",
          "data": {
            "text/plain": [
              "Favorite Color          0\n",
              "Favorite Music Genre    0\n",
              "Favorite Beverage       0\n",
              "Favorite Soft Drink     0\n",
              "Gender                  0\n",
              "dtype: int64"
            ]
          },
          "metadata": {},
          "execution_count": 4
        }
      ]
    },
    {
      "cell_type": "code",
      "metadata": {
        "colab": {
          "base_uri": "https://localhost:8080/"
        },
        "id": "_LaBaEFLeXKy",
        "outputId": "12372d83-3dad-4667-f3eb-2ca5eb8292a9"
      },
      "source": [
        "df.info()"
      ],
      "execution_count": 5,
      "outputs": [
        {
          "output_type": "stream",
          "name": "stdout",
          "text": [
            "<class 'pandas.core.frame.DataFrame'>\n",
            "RangeIndex: 66 entries, 0 to 65\n",
            "Data columns (total 5 columns):\n",
            " #   Column                Non-Null Count  Dtype \n",
            "---  ------                --------------  ----- \n",
            " 0   Favorite Color        66 non-null     object\n",
            " 1   Favorite Music Genre  66 non-null     object\n",
            " 2   Favorite Beverage     66 non-null     object\n",
            " 3   Favorite Soft Drink   66 non-null     object\n",
            " 4   Gender                66 non-null     object\n",
            "dtypes: object(5)\n",
            "memory usage: 2.7+ KB\n"
          ]
        }
      ]
    },
    {
      "cell_type": "code",
      "metadata": {
        "colab": {
          "base_uri": "https://localhost:8080/",
          "height": 1000
        },
        "id": "tjDBKnP2ehOW",
        "outputId": "ad602940-2128-4f1a-9597-b15d588aaa9f"
      },
      "source": [
        "fig, axes = plt.subplots(nrows=5, ncols=1, figsize=(10,18))\n",
        "for i in range(len(df.columns)):\n",
        "  sns.countplot(data=df, x=df.iloc[:, i],ax=axes[i])"
      ],
      "execution_count": 6,
      "outputs": [
        {
          "output_type": "display_data",
          "data": {
            "image/png": "[encoded data removed]",
            "text/plain": [
              "<Figure size 720x1296 with 5 Axes>"
            ]
          },
          "metadata": {
            "needs_background": "light"
          }
        }
      ]
    },
    {
      "cell_type": "code",
      "metadata": {
        "id": "zmIuDpaWgp7u"
      },
      "source": [
        "X = df.drop('Gender', axis=1)\n",
        "Y = df['Gender']"
      ],
      "execution_count": 7,
      "outputs": []
    },
    {
      "cell_type": "code",
      "metadata": {
        "id": "WdKYPG4JAtwb"
      },
      "source": [
        "from sklearn.model_selection import train_test_split\n",
        "X_train, X_test, Y_train, Y_test = train_test_split(X, Y, test_size=0.33, random_state=42)"
      ],
      "execution_count": 8,
      "outputs": []
    },
    {
      "cell_type": "code",
      "metadata": {
        "id": "iKd-e1npBkbn"
      },
      "source": [
        "cols = list(X.columns)"
      ],
      "execution_count": 9,
      "outputs": []
    },
    {
      "cell_type": "code",
      "metadata": {
        "colab": {
          "base_uri": "https://localhost:8080/"
        },
        "id": "E0bmmpr4BrL_",
        "outputId": "b2697b68-9dd9-4388-9729-05424908f3f7"
      },
      "source": [
        "cols"
      ],
      "execution_count": 10,
      "outputs": [
        {
          "output_type": "execute_result",
          "data": {
            "text/plain": [
              "['Favorite Color',\n",
              " 'Favorite Music Genre',\n",
              " 'Favorite Beverage',\n",
              " 'Favorite Soft Drink']"
            ]
          },
          "metadata": {},
          "execution_count": 10
        }
      ]
    },
    {
      "cell_type": "code",
      "metadata": {
        "id": "BQRhcRUjBtDJ"
      },
      "source": [
        "from sklearn.preprocessing import OneHotEncoder\n",
        "onehot = OneHotEncoder()\n",
        "from sklearn.compose import ColumnTransformer\n",
        "clt = ColumnTransformer([('binarize', onehot, cols)], remainder = 'passthrough')"
      ],
      "execution_count": 11,
      "outputs": []
    },
    {
      "cell_type": "code",
      "metadata": {
        "id": "ybX1z74QClDu"
      },
      "source": [
        "X_train = clt.fit_transform(X_train)"
      ],
      "execution_count": 12,
      "outputs": []
    },
    {
      "cell_type": "code",
      "metadata": {
        "id": "M_UQDucjCuSR"
      },
      "source": [
        "X_test = clt.transform(X_test)"
      ],
      "execution_count": 13,
      "outputs": []
    },
    {
      "cell_type": "markdown",
      "metadata": {
        "id": "rDbnwmlps9sV"
      },
      "source": [
        "CREATING MODEL & METRICS"
      ]
    },
    {
      "cell_type": "code",
      "metadata": {
        "id": "q7QermGcCy8j"
      },
      "source": [
        "from sklearn.neighbors import KNeighborsClassifier\n",
        "from sklearn.metrics import classification_report, confusion_matrix, accuracy_score\n",
        "test_score=[]\n",
        "for i in range(1, 30):\n",
        "  knn = KNeighborsClassifier(n_neighbors=i)\n",
        "  knn.fit(X_train, Y_train)\n",
        "  y_hat = knn.predict(X_test)\n",
        "  score= 1-accuracy_score(Y_test, y_hat)\n",
        "  test_score.append(score)\n",
        "\n"
      ],
      "execution_count": 17,
      "outputs": []
    },
    {
      "cell_type": "code",
      "metadata": {
        "colab": {
          "base_uri": "https://localhost:8080/"
        },
        "id": "a4pJFQ54qV5O",
        "outputId": "22f8814b-6a8d-45c8-e2f8-34b4087effac"
      },
      "source": [
        "print(Y_test)\n",
        "print(y_hat)\n",
        "print(score)"
      ],
      "execution_count": 19,
      "outputs": [
        {
          "output_type": "stream",
          "name": "stdout",
          "text": [
            "54    M\n",
            "62    M\n",
            "0     F\n",
            "45    M\n",
            "5     F\n",
            "63    M\n",
            "16    F\n",
            "12    F\n",
            "65    M\n",
            "30    F\n",
            "33    M\n",
            "9     F\n",
            "41    M\n",
            "13    F\n",
            "34    M\n",
            "25    F\n",
            "3     F\n",
            "17    F\n",
            "40    M\n",
            "8     F\n",
            "6     F\n",
            "28    F\n",
            "Name: Gender, dtype: object\n",
            "['M' 'F' 'F' 'F' 'M' 'M' 'M' 'F' 'F' 'M' 'M' 'F' 'F' 'M' 'F' 'M' 'M' 'M'\n",
            " 'F' 'F' 'F' 'M']\n",
            "0.5909090909090908\n"
          ]
        }
      ]
    },
    {
      "cell_type": "code",
      "metadata": {
        "colab": {
          "base_uri": "https://localhost:8080/"
        },
        "id": "2N1QqaxOXM3p",
        "outputId": "d342f68f-163c-4645-8468-6b4c29e1b6e7"
      },
      "source": [
        "knn.get_params()"
      ],
      "execution_count": 20,
      "outputs": [
        {
          "output_type": "execute_result",
          "data": {
            "text/plain": [
              "{'algorithm': 'auto',\n",
              " 'leaf_size': 30,\n",
              " 'metric': 'minkowski',\n",
              " 'metric_params': None,\n",
              " 'n_jobs': None,\n",
              " 'n_neighbors': 13,\n",
              " 'p': 2,\n",
              " 'weights': 'uniform'}"
            ]
          },
          "metadata": {},
          "execution_count": 20
        }
      ]
    },
    {
      "cell_type": "markdown",
      "metadata": {
        "id": "UxhdlFcu53J2"
      },
      "source": [
        "**KNN with GridSearchCV**"
      ]
    },
    {
      "cell_type": "code",
      "metadata": {
        "id": "bzYX2lax6DzU"
      },
      "source": [
        "from sklearn.model_selection import GridSearchCV\n",
        "n_val = list(range(1,40))\n",
        "param_grid = {'n_neighbors' :n_val}\n",
        "model = GridSearchCV(knn, param_grid=param_grid, cv=10, scoring='accuracy')"
      ],
      "execution_count": 21,
      "outputs": []
    },
    {
      "cell_type": "code",
      "metadata": {
        "colab": {
          "base_uri": "https://localhost:8080/"
        },
        "id": "gzR2xtow8j3T",
        "outputId": "157c66e7-2b8b-41b4-da5c-1cda770543cf"
      },
      "source": [
        "model.fit(X_train, Y_train)"
      ],
      "execution_count": 22,
      "outputs": [
        {
          "output_type": "execute_result",
          "data": {
            "text/plain": [
              "GridSearchCV(cv=10, estimator=KNeighborsClassifier(n_neighbors=13),\n",
              "             param_grid={'n_neighbors': [1, 2, 3, 4, 5, 6, 7, 8, 9, 10, 11, 12,\n",
              "                                         13, 14, 15, 16, 17, 18, 19, 20, 21, 22,\n",
              "                                         23, 24, 25, 26, 27, 28, 29, 30, ...]},\n",
              "             scoring='accuracy')"
            ]
          },
          "metadata": {},
          "execution_count": 22
        }
      ]
    },
    {
      "cell_type": "markdown",
      "metadata": {
        "id": "WTxaA10E9MJC"
      },
      "source": [
        "Best Parameters in KNN using GridSearchCV"
      ]
    },
    {
      "cell_type": "code",
      "metadata": {
        "colab": {
          "base_uri": "https://localhost:8080/"
        },
        "id": "drslWwlP805l",
        "outputId": "e696406d-2dad-424c-9d81-4fae5ad37f4e"
      },
      "source": [
        "model.best_estimator_.get_params()"
      ],
      "execution_count": 23,
      "outputs": [
        {
          "output_type": "execute_result",
          "data": {
            "text/plain": [
              "{'algorithm': 'auto',\n",
              " 'leaf_size': 30,\n",
              " 'metric': 'minkowski',\n",
              " 'metric_params': None,\n",
              " 'n_jobs': None,\n",
              " 'n_neighbors': 2,\n",
              " 'p': 2,\n",
              " 'weights': 'uniform'}"
            ]
          },
          "metadata": {},
          "execution_count": 23
        }
      ]
    },
    {
      "cell_type": "code",
      "metadata": {
        "id": "AeQPgteyDY8i"
      },
      "source": [
        "grid_cv_predict = model.predict(X_test)"
      ],
      "execution_count": 24,
      "outputs": []
    },
    {
      "cell_type": "code",
      "metadata": {
        "colab": {
          "base_uri": "https://localhost:8080/"
        },
        "id": "UJlOsEn7DpNK",
        "outputId": "0ef167e0-784d-4b32-f7f7-45ac118db977"
      },
      "source": [
        "accuracy_score(Y_test,grid_cv_predict)"
      ],
      "execution_count": 25,
      "outputs": [
        {
          "output_type": "execute_result",
          "data": {
            "text/plain": [
              "0.5454545454545454"
            ]
          },
          "metadata": {},
          "execution_count": 25
        }
      ]
    },
    {
      "cell_type": "code",
      "metadata": {
        "colab": {
          "base_uri": "https://localhost:8080/",
          "height": 510
        },
        "id": "bSd62GLSDzCz",
        "outputId": "8bb9fdf6-5cd1-4900-f074-dcdf12f6e33d"
      },
      "source": [
        "plt.figure (figsize=(18,10))\n",
        "pd.DataFrame(model.cv_results_)['mean_test_score'].plot()\n",
        "plt.title('Mean Test score using KNN')"
      ],
      "execution_count": 26,
      "outputs": [
        {
          "output_type": "execute_result",
          "data": {
            "text/plain": [
              "Text(0.5, 1.0, 'Mean Test score using KNN')"
            ]
          },
          "metadata": {},
          "execution_count": 26
        },
        {
          "output_type": "display_data",
          "data": {
            "image/png": "[encoded data removed]",
            "text/plain": [
              "<Figure size 1296x720 with 1 Axes>"
            ]
          },
          "metadata": {
            "needs_background": "light"
          }
        }
      ]
    },
    {
      "cell_type": "markdown",
      "metadata": {
        "id": "UXUKbjHRU1Tw"
      },
      "source": [
        "Logistic regression - cross validation"
      ]
    },
    {
      "cell_type": "code",
      "metadata": {
        "colab": {
          "base_uri": "https://localhost:8080/"
        },
        "id": "fIDwBPHcU6he",
        "outputId": "295a0b19-562d-48a7-fd27-bfbe58006a35"
      },
      "source": [
        "from sklearn.linear_model import LogisticRegressionCV\n",
        "logit = LogisticRegressionCV()\n",
        "logit.fit(X_train, Y_train)"
      ],
      "execution_count": 27,
      "outputs": [
        {
          "output_type": "stream",
          "name": "stderr",
          "text": [
            "/usr/local/lib/python3.7/dist-packages/sklearn/linear_model/_logistic.py:818: ConvergenceWarning: lbfgs failed to converge (status=1):\n",
            "STOP: TOTAL NO. of ITERATIONS REACHED LIMIT.\n",
            "\n",
            "Increase the number of iterations (max_iter) or scale the data as shown in:\n",
            "    https://scikit-learn.org/stable/modules/preprocessing.html\n",
            "Please also refer to the documentation for alternative solver options:\n",
            "    https://scikit-learn.org/stable/modules/linear_model.html#logistic-regression\n",
            "  extra_warning_msg=_LOGISTIC_SOLVER_CONVERGENCE_MSG,\n"
          ]
        },
        {
          "output_type": "execute_result",
          "data": {
            "text/plain": [
              "LogisticRegressionCV()"
            ]
          },
          "metadata": {},
          "execution_count": 27
        }
      ]
    },
    {
      "cell_type": "code",
      "metadata": {
        "colab": {
          "base_uri": "https://localhost:8080/"
        },
        "id": "sKBWzx8lVkJ6",
        "outputId": "3adb645d-ee75-4298-83e5-9a5f72f8d731"
      },
      "source": [
        "Logit_pred = model.predict(X_test)\n",
        "accuracy_score(Y_test, Logit_pred)"
      ],
      "execution_count": 28,
      "outputs": [
        {
          "output_type": "execute_result",
          "data": {
            "text/plain": [
              "0.5454545454545454"
            ]
          },
          "metadata": {},
          "execution_count": 28
        }
      ]
    },
    {
      "cell_type": "markdown",
      "metadata": {
        "id": "Od7ZxGB4V5gL"
      },
      "source": [
        "Support Vector Machine "
      ]
    },
    {
      "cell_type": "code",
      "metadata": {
        "colab": {
          "base_uri": "https://localhost:8080/"
        },
        "id": "bXN4r5v2WFGF",
        "outputId": "fd3a9c97-28e1-4d21-fb95-ab34fcf9f99c"
      },
      "source": [
        "from sklearn.svm import SVC\n",
        "svc = SVC()\n",
        "svc.fit(X_train, Y_train)\n",
        "pred_svc = svc.predict(X_test)\n",
        "accuracy_score(Y_test, pred_svc)"
      ],
      "execution_count": 29,
      "outputs": [
        {
          "output_type": "execute_result",
          "data": {
            "text/plain": [
              "0.5909090909090909"
            ]
          },
          "metadata": {},
          "execution_count": 29
        }
      ]
    },
    {
      "cell_type": "code",
      "metadata": {
        "colab": {
          "base_uri": "https://localhost:8080/"
        },
        "id": "0vQk3igGWjaH",
        "outputId": "ef48de7f-3555-4233-8f49-09d8aa5c9eab"
      },
      "source": [
        "print(classification_report(Y_test, pred_svc))"
      ],
      "execution_count": 30,
      "outputs": [
        {
          "output_type": "stream",
          "name": "stdout",
          "text": [
            "              precision    recall  f1-score   support\n",
            "\n",
            "           F       0.75      0.46      0.57        13\n",
            "           M       0.50      0.78      0.61         9\n",
            "\n",
            "    accuracy                           0.59        22\n",
            "   macro avg       0.62      0.62      0.59        22\n",
            "weighted avg       0.65      0.59      0.59        22\n",
            "\n"
          ]
        }
      ]
    },
    {
      "cell_type": "markdown",
      "metadata": {
        "id": "HWNSDP66tjpO"
      },
      "source": [
        "since SVM was able to predict the results at high accuracy compartively, SVM model is selected among other models implemented in the current execution"
      ]
    }
  ]
}